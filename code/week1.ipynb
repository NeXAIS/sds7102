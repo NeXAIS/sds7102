{
 "cells": [
  {
   "cell_type": "code",
   "execution_count": null,
   "id": "ac2d51a1",
   "metadata": {},
   "outputs": [
    {
     "name": "stdout",
     "output_type": "stream",
     "text": [
      "P(X1 > 8 | X2 = 1, X3 = 10): 0.2725755\n"
     ]
    }
   ],
   "source": [
    "import numpy as np\n",
    "from scipy.stats import norm\n",
    "\n",
    "# Define the mean vector and covariance matrix\n",
    "mu = np.array([5, 3, 7])\n",
    "Sigma = np.array([[4, -1, 0],\n",
    "                  [-1, 4, 2],\n",
    "                  [0,  2, 9]])\n",
    "\n",
    "# Conditional mean\n",
    "Mean = mu[0] + Sigma[0,1:] @ np.linalg.inv(Sigma[1:,1:]) @ (np.array([1, 10]) - mu[1:])\n",
    "\n",
    "# Conditional variance\n",
    "Var = Sigma[0,0] - Sigma[0,1:] @ np.linalg.inv(Sigma[1:,1:]) @ Sigma[1:,0]\n",
    "\n",
    "# Compute the probability P(X1 > 8 | X2 = 1, X3 = 10)\n",
    "p = norm.sf(8, loc = Mean, scale = Var)\n",
    "\n",
    "print(\"P(X1 > 8 | X2 = 1, X3 = 10):\", f\"{p:.7f}\")"
   ]
  },
  {
   "cell_type": "code",
   "execution_count": 9,
   "id": "2e9d6ede",
   "metadata": {},
   "outputs": [
    {
     "name": "stdout",
     "output_type": "stream",
     "text": [
      "P(a'X <= 63): 0.8413447\n"
     ]
    }
   ],
   "source": [
    "# mean vector and covariance matrix (same as before)\n",
    "mu = np.array([5, 3, 7])\n",
    "Sigma = np.array([[4, -1, 0],\n",
    "                  [-1, 4, 2],\n",
    "                  [0,  2, 9]])\n",
    "\n",
    "# define the linear combination\n",
    "a = np.array([4, -3, 5])\n",
    "\n",
    "# mean and variance of a'X\n",
    "Mean_aX = mu @ a\n",
    "Var_aX = a @ Sigma @ a\n",
    "\n",
    "# probability P(a'X <= 63)\n",
    "p = norm.cdf(63, loc=Mean_aX, scale=np.sqrt(Var_aX))\n",
    "\n",
    "print(\"P(a'X <= 63):\", f\"{p:.7f}\")"
   ]
  },
  {
   "cell_type": "code",
   "execution_count": null,
   "id": "25e13ed7",
   "metadata": {},
   "outputs": [],
   "source": []
  }
 ],
 "metadata": {
  "kernelspec": {
   "display_name": "base",
   "language": "python",
   "name": "python3"
  },
  "language_info": {
   "codemirror_mode": {
    "name": "ipython",
    "version": 3
   },
   "file_extension": ".py",
   "mimetype": "text/x-python",
   "name": "python",
   "nbconvert_exporter": "python",
   "pygments_lexer": "ipython3",
   "version": "3.9.7"
  }
 },
 "nbformat": 4,
 "nbformat_minor": 5
}
